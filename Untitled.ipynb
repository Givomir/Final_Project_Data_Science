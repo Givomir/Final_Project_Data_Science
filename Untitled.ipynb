{
 "cells": [
  {
   "cell_type": "code",
   "execution_count": 2,
   "id": "5458c207-72cc-48e4-97d4-969fea7a02df",
   "metadata": {},
   "outputs": [],
   "source": [
    "import pandas as pd"
   ]
  },
  {
   "cell_type": "code",
   "execution_count": 23,
   "id": "c5b5cb50-3f67-430d-9c8c-285c36ac4b46",
   "metadata": {},
   "outputs": [
    {
     "name": "stdout",
     "output_type": "stream",
     "text": [
      "Файлът съществува.\n"
     ]
    }
   ],
   "source": [
    "import os\n",
    "# Задайте пътя до вашия CSV файл\n",
    "csv_file_path = r'C:\\stasi\\SoftUni_DATA_SCIENCE\\FINAL_PROJECT\\DATA\\РЕЗУЛТАТИ ИЗБОРИ 2024\\export\\Актуализирана база данни - НС\\sections_09.06.2024.txt'\n",
    "\n",
    "# Проверка дали файлът съществува\n",
    "if os.path.exists(csv_file_path):\n",
    "    print(\"Файлът съществува.\")\n",
    "else:\n",
    "    print(\"Файлът не съществува.\")\n",
    "\n",
    "# Зареждане на CSV файла в DataFrame\n",
    "    df = pd.read_csv(csv_file_path)"
   ]
  },
  {
   "cell_type": "code",
   "execution_count": null,
   "id": "d3fb8a7c-43b5-432b-8b95-0a89a54e939d",
   "metadata": {},
   "outputs": [],
   "source": []
  }
 ],
 "metadata": {
  "kernelspec": {
   "display_name": "Python 3 (ipykernel)",
   "language": "python",
   "name": "python3"
  },
  "language_info": {
   "codemirror_mode": {
    "name": "ipython",
    "version": 3
   },
   "file_extension": ".py",
   "mimetype": "text/x-python",
   "name": "python",
   "nbconvert_exporter": "python",
   "pygments_lexer": "ipython3",
   "version": "3.11.7"
  }
 },
 "nbformat": 4,
 "nbformat_minor": 5
}
